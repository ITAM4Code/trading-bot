{
 "cells": [
  {
   "cell_type": "markdown",
   "id": "4a7fc452",
   "metadata": {},
   "source": [
    "## Estrategia Medias Móviles"
   ]
  },
  {
   "cell_type": "code",
   "execution_count": 1,
   "id": "558e5c35",
   "metadata": {},
   "outputs": [
    {
     "name": "stdout",
     "output_type": "stream",
     "text": [
      "['/Users/fernando/Desktop/TradingBot/trading-bot', '/opt/anaconda3/envs/trading/lib/python39.zip', '/opt/anaconda3/envs/trading/lib/python3.9', '/opt/anaconda3/envs/trading/lib/python3.9/lib-dynload', '', '/opt/anaconda3/envs/trading/lib/python3.9/site-packages', '/opt/anaconda3/envs/trading/lib/python3.9/site-packages/IPython/extensions', '/Users/fernando/.ipython', '../config_files']\n"
     ]
    }
   ],
   "source": [
    "import sys\n",
    "sys.path.append(\"../config_files\")\n",
    "#sys.path.remove(\"../config_files\")\n",
    "print(sys.path)"
   ]
  },
  {
   "cell_type": "code",
   "execution_count": 2,
   "id": "5585134b",
   "metadata": {},
   "outputs": [
    {
     "ename": "ModuleNotFoundError",
     "evalue": "No module named 'plotly'",
     "output_type": "error",
     "traceback": [
      "\u001b[0;31m---------------------------------------------------------------------------\u001b[0m",
      "\u001b[0;31mModuleNotFoundError\u001b[0m                       Traceback (most recent call last)",
      "\u001b[0;32m<ipython-input-2-76cc479273f8>\u001b[0m in \u001b[0;36m<module>\u001b[0;34m\u001b[0m\n\u001b[1;32m      2\u001b[0m \u001b[0;32mimport\u001b[0m \u001b[0mpandas\u001b[0m \u001b[0;32mas\u001b[0m \u001b[0mpd\u001b[0m\u001b[0;34m\u001b[0m\u001b[0;34m\u001b[0m\u001b[0m\n\u001b[1;32m      3\u001b[0m \u001b[0;32mimport\u001b[0m \u001b[0mnumpy\u001b[0m \u001b[0;32mas\u001b[0m \u001b[0mnp\u001b[0m\u001b[0;34m\u001b[0m\u001b[0;34m\u001b[0m\u001b[0m\n\u001b[0;32m----> 4\u001b[0;31m \u001b[0;32mimport\u001b[0m \u001b[0mplotly\u001b[0m\u001b[0;34m.\u001b[0m\u001b[0moffline\u001b[0m\u001b[0;34m\u001b[0m\u001b[0;34m\u001b[0m\u001b[0m\n\u001b[0m\u001b[1;32m      5\u001b[0m \u001b[0;31m#from plotly.offline import download_plotlyjs, plot, iplot, init_notebook_mode\u001b[0m\u001b[0;34m\u001b[0m\u001b[0;34m\u001b[0m\u001b[0;34m\u001b[0m\u001b[0m\n\u001b[1;32m      6\u001b[0m \u001b[0;32mimport\u001b[0m \u001b[0mplotly\u001b[0m\u001b[0;34m.\u001b[0m\u001b[0mgraph_objs\u001b[0m \u001b[0;32mas\u001b[0m \u001b[0mgo\u001b[0m\u001b[0;34m\u001b[0m\u001b[0;34m\u001b[0m\u001b[0m\n",
      "\u001b[0;31mModuleNotFoundError\u001b[0m: No module named 'plotly'"
     ]
    }
   ],
   "source": [
    "import mysql.connector\n",
    "import pandas as pd\n",
    "import numpy as np\n",
    "import plotly.offline \n",
    "#from plotly.offline import download_plotlyjs, plot, iplot, init_notebook_mode\n",
    "import plotly.graph_objs as go\n",
    "\n",
    "%matplotlib inline"
   ]
  },
  {
   "cell_type": "code",
   "execution_count": 2,
   "id": "0e56c335",
   "metadata": {},
   "outputs": [
    {
     "ename": "ModuleNotFoundError",
     "evalue": "No module named 'plotly'",
     "output_type": "error",
     "traceback": [
      "\u001b[0;31m---------------------------------------------------------------------------\u001b[0m",
      "\u001b[0;31mModuleNotFoundError\u001b[0m                       Traceback (most recent call last)",
      "\u001b[0;32m<ipython-input-2-95f5e643738a>\u001b[0m in \u001b[0;36m<module>\u001b[0;34m\u001b[0m\n\u001b[0;32m----> 1\u001b[0;31m \u001b[0;32mimport\u001b[0m \u001b[0mplotly\u001b[0m\u001b[0;34m.\u001b[0m\u001b[0moffline\u001b[0m\u001b[0;34m\u001b[0m\u001b[0;34m\u001b[0m\u001b[0m\n\u001b[0m\u001b[1;32m      2\u001b[0m \u001b[0;32mimport\u001b[0m \u001b[0mplotly\u001b[0m\u001b[0;34m.\u001b[0m\u001b[0mgraph_objs\u001b[0m \u001b[0;32mas\u001b[0m \u001b[0mgo\u001b[0m\u001b[0;34m\u001b[0m\u001b[0;34m\u001b[0m\u001b[0m\n\u001b[1;32m      3\u001b[0m \u001b[0;34m\u001b[0m\u001b[0m\n\u001b[1;32m      4\u001b[0m plotly.offline.plot({\"data\": [go.Scatter(x=[1, 2, 3, 4], y=[4, 3, 2, 1])],\n\u001b[1;32m      5\u001b[0m                      \"layout\": go.Layout(title=\"hello world\")},\n",
      "\u001b[0;31mModuleNotFoundError\u001b[0m: No module named 'plotly'"
     ]
    }
   ],
   "source": [
    "import plotly.offline\n",
    "import plotly.graph_objs as go\n",
    "\n",
    "plotly.offline.plot({\"data\": [go.Scatter(x=[1, 2, 3, 4], y=[4, 3, 2, 1])],\n",
    "                     \"layout\": go.Layout(title=\"hello world\")},\n",
    "                     image='jpeg', image_filename='test')"
   ]
  },
  {
   "cell_type": "code",
   "execution_count": 3,
   "id": "6e150063",
   "metadata": {},
   "outputs": [
    {
     "ename": "ModuleNotFoundError",
     "evalue": "No module named 'plotly'",
     "output_type": "error",
     "traceback": [
      "\u001b[0;31m---------------------------------------------------------------------------\u001b[0m",
      "\u001b[0;31mModuleNotFoundError\u001b[0m                       Traceback (most recent call last)",
      "\u001b[0;32m<ipython-input-3-b7fbcc133367>\u001b[0m in \u001b[0;36m<module>\u001b[0;34m\u001b[0m\n\u001b[0;32m----> 1\u001b[0;31m \u001b[0;32mimport\u001b[0m \u001b[0mplotly\u001b[0m\u001b[0;34m.\u001b[0m\u001b[0mgraph_objects\u001b[0m \u001b[0;32mas\u001b[0m \u001b[0mgo\u001b[0m\u001b[0;34m\u001b[0m\u001b[0;34m\u001b[0m\u001b[0m\n\u001b[0m\u001b[1;32m      2\u001b[0m \u001b[0;32mimport\u001b[0m \u001b[0mnumpy\u001b[0m \u001b[0;32mas\u001b[0m \u001b[0mnp\u001b[0m\u001b[0;34m\u001b[0m\u001b[0;34m\u001b[0m\u001b[0m\n\u001b[1;32m      3\u001b[0m \u001b[0mnp\u001b[0m\u001b[0;34m.\u001b[0m\u001b[0mrandom\u001b[0m\u001b[0;34m.\u001b[0m\u001b[0mseed\u001b[0m\u001b[0;34m(\u001b[0m\u001b[0;36m1\u001b[0m\u001b[0;34m)\u001b[0m\u001b[0;34m\u001b[0m\u001b[0;34m\u001b[0m\u001b[0m\n\u001b[1;32m      4\u001b[0m \u001b[0;34m\u001b[0m\u001b[0m\n\u001b[1;32m      5\u001b[0m \u001b[0mN\u001b[0m \u001b[0;34m=\u001b[0m \u001b[0;36m100\u001b[0m\u001b[0;34m\u001b[0m\u001b[0;34m\u001b[0m\u001b[0m\n",
      "\u001b[0;31mModuleNotFoundError\u001b[0m: No module named 'plotly'"
     ]
    }
   ],
   "source": [
    "import plotly.graph_objects as go\n",
    "import numpy as np\n",
    "np.random.seed(1)\n",
    "\n",
    "N = 100\n",
    "x = np.random.rand(N)\n",
    "y = np.random.rand(N)\n",
    "colors = np.random.rand(N)\n",
    "sz = np.random.rand(N) * 30\n",
    "\n",
    "fig = go.Figure()\n",
    "fig.add_trace(go.Scatter(\n",
    "    x=x,\n",
    "    y=y,\n",
    "    mode=\"markers\",\n",
    "    marker=go.scatter.Marker(\n",
    "        size=sz,\n",
    "        color=colors,\n",
    "        opacity=0.6,\n",
    "        colorscale=\"Viridis\"\n",
    "    )\n",
    "))\n",
    "\n",
    "fig.show()"
   ]
  },
  {
   "cell_type": "markdown",
   "id": "00f35f27",
   "metadata": {},
   "source": [
    "### Leer dtos de alguna DB"
   ]
  },
  {
   "cell_type": "code",
   "execution_count": 2,
   "id": "86b95242",
   "metadata": {},
   "outputs": [
    {
     "ename": "NameError",
     "evalue": "name 'CONFIG_MYSQL' is not defined",
     "output_type": "error",
     "traceback": [
      "\u001b[0;31m---------------------------------------------------------------------------\u001b[0m",
      "\u001b[0;31mNameError\u001b[0m                                 Traceback (most recent call last)",
      "\u001b[0;32m<ipython-input-2-120cf2ef4f30>\u001b[0m in \u001b[0;36m<module>\u001b[0;34m\u001b[0m\n\u001b[1;32m     14\u001b[0m     \u001b[0;32mreturn\u001b[0m \u001b[0mextraction\u001b[0m\u001b[0;34m\u001b[0m\u001b[0;34m\u001b[0m\u001b[0m\n\u001b[1;32m     15\u001b[0m \u001b[0;34m\u001b[0m\u001b[0m\n\u001b[0;32m---> 16\u001b[0;31m \u001b[0mdatos\u001b[0m \u001b[0;34m=\u001b[0m \u001b[0mload_bitso_data_top500\u001b[0m\u001b[0;34m(\u001b[0m\u001b[0mCONFIG_MYSQL\u001b[0m\u001b[0;34m)\u001b[0m\u001b[0;34m\u001b[0m\u001b[0;34m\u001b[0m\u001b[0m\n\u001b[0m",
      "\u001b[0;31mNameError\u001b[0m: name 'CONFIG_MYSQL' is not defined"
     ]
    }
   ],
   "source": [
    "def load_bitso_data_top500():\n",
    "    \n",
    "    conn = mysql.connector.connect(user='', database='')\n",
    "    cursor = conn.cursor()\n",
    "    query = \"\"\"SELECT\n",
    "        *\n",
    "    FROM\n",
    "        bitso_api.bitso_mxn\n",
    "        \n",
    "    ORDER BY\n",
    "        tid DESC\n",
    "    LIMIT 5000;\"\"\"\n",
    "    extraction = pd.read_sql(query.conn)\n",
    "    return extraction\n",
    "\n",
    "datos = load_bitso_data_top500(CONFIG_MYSQL)"
   ]
  },
  {
   "cell_type": "code",
   "execution_count": 3,
   "id": "39413d85",
   "metadata": {},
   "outputs": [
    {
     "ename": "NameError",
     "evalue": "name 'datos' is not defined",
     "output_type": "error",
     "traceback": [
      "\u001b[0;31m---------------------------------------------------------------------------\u001b[0m",
      "\u001b[0;31mNameError\u001b[0m                                 Traceback (most recent call last)",
      "\u001b[0;32m<ipython-input-3-82ecc5354a66>\u001b[0m in \u001b[0;36m<module>\u001b[0;34m\u001b[0m\n\u001b[0;32m----> 1\u001b[0;31m \u001b[0mdatos\u001b[0m\u001b[0;34m.\u001b[0m\u001b[0mcolumns\u001b[0m\u001b[0;34m\u001b[0m\u001b[0;34m\u001b[0m\u001b[0m\n\u001b[0m",
      "\u001b[0;31mNameError\u001b[0m: name 'datos' is not defined"
     ]
    }
   ],
   "source": [
    "datos.columns"
   ]
  },
  {
   "cell_type": "code",
   "execution_count": 4,
   "id": "85329720",
   "metadata": {},
   "outputs": [
    {
     "ename": "NameError",
     "evalue": "name 'datos' is not defined",
     "output_type": "error",
     "traceback": [
      "\u001b[0;31m---------------------------------------------------------------------------\u001b[0m",
      "\u001b[0;31mNameError\u001b[0m                                 Traceback (most recent call last)",
      "\u001b[0;32m<ipython-input-4-54bc2f975257>\u001b[0m in \u001b[0;36m<module>\u001b[0;34m\u001b[0m\n\u001b[0;32m----> 1\u001b[0;31m \u001b[0mdatos\u001b[0m\u001b[0;34m.\u001b[0m\u001b[0mhead\u001b[0m\u001b[0;34m(\u001b[0m\u001b[0;34m)\u001b[0m\u001b[0;34m\u001b[0m\u001b[0;34m\u001b[0m\u001b[0m\n\u001b[0m",
      "\u001b[0;31mNameError\u001b[0m: name 'datos' is not defined"
     ]
    }
   ],
   "source": [
    "datos.head()"
   ]
  },
  {
   "cell_type": "code",
   "execution_count": 5,
   "id": "0efa6422",
   "metadata": {},
   "outputs": [
    {
     "ename": "NameError",
     "evalue": "name 'datos' is not defined",
     "output_type": "error",
     "traceback": [
      "\u001b[0;31m---------------------------------------------------------------------------\u001b[0m",
      "\u001b[0;31mNameError\u001b[0m                                 Traceback (most recent call last)",
      "\u001b[0;32m<ipython-input-5-4434b68f8c63>\u001b[0m in \u001b[0;36m<module>\u001b[0;34m\u001b[0m\n\u001b[0;32m----> 1\u001b[0;31m \u001b[0mdatos\u001b[0m\u001b[0;34m.\u001b[0m\u001b[0mtail\u001b[0m\u001b[0;34m(\u001b[0m\u001b[0;34m)\u001b[0m\u001b[0;34m\u001b[0m\u001b[0;34m\u001b[0m\u001b[0m\n\u001b[0m",
      "\u001b[0;31mNameError\u001b[0m: name 'datos' is not defined"
     ]
    }
   ],
   "source": [
    "datos.tail()"
   ]
  },
  {
   "cell_type": "code",
   "execution_count": 6,
   "id": "28bb87fc",
   "metadata": {},
   "outputs": [
    {
     "ename": "NameError",
     "evalue": "name 'datos' is not defined",
     "output_type": "error",
     "traceback": [
      "\u001b[0;31m---------------------------------------------------------------------------\u001b[0m",
      "\u001b[0;31mNameError\u001b[0m                                 Traceback (most recent call last)",
      "\u001b[0;32m<ipython-input-6-a11d980d0b71>\u001b[0m in \u001b[0;36m<module>\u001b[0;34m\u001b[0m\n\u001b[0;32m----> 1\u001b[0;31m \u001b[0mdatos\u001b[0m \u001b[0;34m=\u001b[0m \u001b[0mdatos\u001b[0m\u001b[0;34m.\u001b[0m\u001b[0mreindex\u001b[0m\u001b[0;34m(\u001b[0m\u001b[0mindex\u001b[0m\u001b[0;34m=\u001b[0m\u001b[0mdatos\u001b[0m\u001b[0;34m.\u001b[0m\u001b[0mindex\u001b[0m\u001b[0;34m[\u001b[0m\u001b[0;34m:\u001b[0m\u001b[0;34m:\u001b[0m\u001b[0;34m-\u001b[0m\u001b[0;36m1\u001b[0m\u001b[0;34m]\u001b[0m\u001b[0;34m)\u001b[0m\u001b[0;34m\u001b[0m\u001b[0;34m\u001b[0m\u001b[0m\n\u001b[0m\u001b[1;32m      2\u001b[0m \u001b[0mdatos\u001b[0m\u001b[0;34m.\u001b[0m\u001b[0mreset_index\u001b[0m\u001b[0;34m(\u001b[0m\u001b[0minplace\u001b[0m\u001b[0;34m=\u001b[0m\u001b[0;32mTrue\u001b[0m\u001b[0;34m,\u001b[0m\u001b[0mdrop\u001b[0m\u001b[0;34m=\u001b[0m\u001b[0;32mTrue\u001b[0m\u001b[0;34m)\u001b[0m\u001b[0;34m\u001b[0m\u001b[0;34m\u001b[0m\u001b[0m\n",
      "\u001b[0;31mNameError\u001b[0m: name 'datos' is not defined"
     ]
    }
   ],
   "source": [
    "datos = datos.reindex(index=datos.index[::-1])\n",
    "datos.reset_index(inplace=True,drop=True)"
   ]
  },
  {
   "cell_type": "code",
   "execution_count": 7,
   "id": "142a3862",
   "metadata": {},
   "outputs": [
    {
     "ename": "NameError",
     "evalue": "name 'datos' is not defined",
     "output_type": "error",
     "traceback": [
      "\u001b[0;31m---------------------------------------------------------------------------\u001b[0m",
      "\u001b[0;31mNameError\u001b[0m                                 Traceback (most recent call last)",
      "\u001b[0;32m<ipython-input-7-54bc2f975257>\u001b[0m in \u001b[0;36m<module>\u001b[0;34m\u001b[0m\n\u001b[0;32m----> 1\u001b[0;31m \u001b[0mdatos\u001b[0m\u001b[0;34m.\u001b[0m\u001b[0mhead\u001b[0m\u001b[0;34m(\u001b[0m\u001b[0;34m)\u001b[0m\u001b[0;34m\u001b[0m\u001b[0;34m\u001b[0m\u001b[0m\n\u001b[0m",
      "\u001b[0;31mNameError\u001b[0m: name 'datos' is not defined"
     ]
    }
   ],
   "source": [
    "datos.head()"
   ]
  },
  {
   "cell_type": "code",
   "execution_count": null,
   "id": "f3b9384b",
   "metadata": {},
   "outputs": [],
   "source": [
    "datos.dtypes"
   ]
  },
  {
   "cell_type": "code",
   "execution_count": null,
   "id": "7061df7f",
   "metadata": {},
   "outputs": [],
   "source": [
    "datos.price.plot(kind='line')"
   ]
  },
  {
   "cell_type": "markdown",
   "id": "2554cf7b",
   "metadata": {},
   "source": [
    "## Calcular Medias Móviles"
   ]
  },
  {
   "cell_type": "code",
   "execution_count": null,
   "id": "39b50192",
   "metadata": {},
   "outputs": [],
   "source": [
    "def sma(df,d):\n",
    "    c = df.rolling(d).mean()\n",
    "    return c.dropna()"
   ]
  },
  {
   "cell_type": "code",
   "execution_count": null,
   "id": "e19617ed",
   "metadata": {},
   "outputs": [],
   "source": [
    "datos['mv200'] = sma(datos.price,10)\n",
    "datos['mv160'] = sma(datos.price,60)"
   ]
  },
  {
   "cell_type": "code",
   "execution_count": null,
   "id": "d001feef",
   "metadata": {},
   "outputs": [],
   "source": [
    "datos.head(30)"
   ]
  },
  {
   "cell_type": "code",
   "execution_count": null,
   "id": "600886eb",
   "metadata": {},
   "outputs": [],
   "source": [
    "columnas = ['prrice', 'mv20', 'mv160']\n",
    "\n",
    "fig = go.Figure()\n",
    "for columna in columnas:\n",
    "    fig.add_trace(go.Sctter(x=datos.index, y = datos[columna],\n",
    "                     mode = 'lines',\n",
    "                     name = columna))\n",
    "fig.update_layout(tamplate='plotly_dark')\n",
    "\n",
    "iplot(fig)"
   ]
  },
  {
   "cell_type": "markdown",
   "id": "24a4b6ba",
   "metadata": {},
   "source": [
    "## Creamos lógica de estretegia"
   ]
  },
  {
   "cell_type": "code",
   "execution_count": null,
   "id": "dae6e41e",
   "metadata": {},
   "outputs": [],
   "source": [
    "datos['alpha'] = datos['mv20'] - datos['mv160']"
   ]
  },
  {
   "cell_type": "code",
   "execution_count": null,
   "id": "e9dee181",
   "metadata": {},
   "outputs": [],
   "source": [
    "datos['alpha']"
   ]
  },
  {
   "cell_type": "code",
   "execution_count": null,
   "id": "4b6ada10",
   "metadata": {},
   "outputs": [],
   "source": [
    "datos['alpha'].plot()"
   ]
  },
  {
   "cell_type": "code",
   "execution_count": null,
   "id": "bf0fdac8",
   "metadata": {},
   "outputs": [],
   "source": [
    "datos['alpha_bin'] = datos['alpha'].apply(np.sign)"
   ]
  },
  {
   "cell_type": "code",
   "execution_count": null,
   "id": "b24296de",
   "metadata": {},
   "outputs": [],
   "source": [
    "datos['alpha_bin']"
   ]
  },
  {
   "cell_type": "code",
   "execution_count": null,
   "id": "fe8610c4",
   "metadata": {},
   "outputs": [],
   "source": [
    "datos['alpha_bin'].plot()"
   ]
  },
  {
   "cell_type": "code",
   "execution_count": null,
   "id": "d89d081f",
   "metadata": {},
   "outputs": [],
   "source": [
    "datos['alpha_bin'].value_counts()"
   ]
  },
  {
   "cell_type": "code",
   "execution_count": null,
   "id": "2ba80e63",
   "metadata": {},
   "outputs": [],
   "source": [
    "datos['alpha_trade_long'] = ((datos['alpha_bin'] == 1) & (datos['alpha_bin'].shift(1) == -1) &\n",
    "                             (datos['alpha_bin'].shift(2) == -1) & (datos['alpha_bin'].shift(3) == -1))\n",
    "\n",
    "datos['alpha_trade_short'] = ((datos['alpha_bin'] == -1) & (datos['alpha_bin'].shift(1) == 1) &\n",
    "                             (datos['alpha_bin'].shift(2) == 1) & (datos['alpha_bin'].shift(3) == 1))"
   ]
  },
  {
   "cell_type": "code",
   "execution_count": null,
   "id": "d1e09038",
   "metadata": {},
   "outputs": [],
   "source": [
    "datos['alpha_trade_long'].value_counts()"
   ]
  },
  {
   "cell_type": "code",
   "execution_count": null,
   "id": "ece2de6e",
   "metadata": {},
   "outputs": [],
   "source": [
    "datos['alpha_trade_short'].value_counts()"
   ]
  },
  {
   "cell_type": "code",
   "execution_count": null,
   "id": "25802bd4",
   "metadata": {},
   "outputs": [],
   "source": [
    "datos['alpha_trade_compra'] = np.where(datos['alpha_trade_long'] == True, datos['mv20'], np.nan)\n",
    "datos['alpha_trade_venta'] = np.where(datos['alpha_trade_short'] == True, datos['mv20'], np.nan)"
   ]
  },
  {
   "cell_type": "code",
   "execution_count": null,
   "id": "ed739f6c",
   "metadata": {},
   "outputs": [],
   "source": [
    "columnas = ['mv20','mv160','alpha_trade_compra','alpha_trade_venta']\n",
    "\n",
    "fig = go.Figure()\n",
    "for columna in columnas:\n",
    "    if columna == 'alpha_trade_compra':\n",
    "        fig.add_trace(go.Scatter(x=dato.index,y=datos[columna],\n",
    "                                mode = 'markers',\n",
    "                                name=columna,\n",
    "                                marker = dict(color='green') ))\n",
    "        \n",
    "    if columna == 'alpha_trade_venta':\n",
    "        fig.add_trace(go.Scatter(x=datos.index, y=datos[columna],\n",
    "                                mode = 'markers',\n",
    "                                name=columna,\n",
    "                                marker=dict(color='red') ))\n",
    "    else:\n",
    "        fig.add_trace(go.Scatter(x=datos.index,y=datos[columna],\n",
    "                                mode = 'lines',\n",
    "                                name=columna))\n",
    "        \n",
    "fig.update_layout(template='plotly_dark')\n",
    "\n",
    "iplot(fig)\n",
    "                      \n",
    "                      "
   ]
  },
  {
   "cell_type": "code",
   "execution_count": null,
   "id": "de425a00",
   "metadata": {},
   "outputs": [],
   "source": []
  },
  {
   "cell_type": "code",
   "execution_count": null,
   "id": "f0ba4264",
   "metadata": {},
   "outputs": [],
   "source": []
  },
  {
   "cell_type": "code",
   "execution_count": null,
   "id": "c4829e8f",
   "metadata": {},
   "outputs": [],
   "source": []
  }
 ],
 "metadata": {
  "kernelspec": {
   "display_name": "Python 3",
   "language": "python",
   "name": "python3"
  },
  "language_info": {
   "codemirror_mode": {
    "name": "ipython",
    "version": 3
   },
   "file_extension": ".py",
   "mimetype": "text/x-python",
   "name": "python",
   "nbconvert_exporter": "python",
   "pygments_lexer": "ipython3",
   "version": "3.9.4"
  }
 },
 "nbformat": 4,
 "nbformat_minor": 5
}
