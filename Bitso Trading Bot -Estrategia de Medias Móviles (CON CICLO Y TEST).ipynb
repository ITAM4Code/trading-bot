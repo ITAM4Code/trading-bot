{
 "cells": [
  {
   "cell_type": "code",
   "execution_count": null,
   "id": "4332e2a1",
   "metadata": {},
   "outputs": [],
   "source": [
    "import sys\n",
    "sys.path.append(\"../config_files\")\n",
    "import mysql.connector\n",
    "from settings_project import CONFIG_MYSQL\n",
    "\n",
    "import panda as pd\n",
    "import numpy as np\n",
    "import time"
   ]
  },
  {
   "cell_type": "markdown",
   "id": "4daded92",
   "metadata": {},
   "source": [
    "## Definimos funciones"
   ]
  },
  {
   "cell_type": "code",
   "execution_count": null,
   "id": "6a6275de",
   "metadata": {},
   "outputs": [],
   "source": [
    "def load_bitso_data_top500(CONFIG_MYSQL):\n",
    "    \n",
    "    conn = mysql.connector.connect(**CONFIG_MYSQL)\n",
    "    cursor = conn.cursor()\n",
    "    query = \"\"\"SELECT\n",
    "        *\n",
    "    FROM\n",
    "        bitso_api.bitso_mxn\n",
    "        \n",
    "    ORDER BY\n",
    "        tid DESC\n",
    "    LIMIT 5000;\"\"\"\n",
    "    extraction = pd.read_sql(query.conn)\n",
    "    return extraction\n",
    "\n",
    "def sma(df,d):\n",
    "    c = df.rolling(d).mean()\n",
    "    return c.dropna()"
   ]
  },
  {
   "cell_type": "markdown",
   "id": "2c2fce2f",
   "metadata": {},
   "source": [
    "## Creamos ciclo infinito con pausa cada 10 seg"
   ]
  },
  {
   "cell_type": "code",
   "execution_count": null,
   "id": "89a396ca",
   "metadata": {},
   "outputs": [],
   "source": [
    "while True:\n",
    "    #Carcar datos\n",
    "    datos = load_bitso_data_top500(CONFIG_MYSQL)\n",
    "    \n",
    "    #Ordenar datos\n",
    "    datos = datos.reindex(index=datos.index[::-1])\n",
    "    datos.reset_index(inplace=True,drop=True)\n",
    "    \n",
    "    #Crear medias moviles\n",
    "    datos['mv200'] = sma(datos.price,10)\n",
    "    datos['mv160'] = sma(datos.price,60)\n",
    "    \n",
    "    #Restar medias moviles\n",
    "    datos['alpha'] = datos['mv20'] - datos['mv160']\n",
    "    \n",
    "    #Obtener datos\n",
    "    datos['alpha_bin'] = datos['alpha'].apply(np.sign)\n",
    "    \n",
    "    if((datos['alpha_bin'].iloc[-1] == 1) & (datos['alpha_bin'].shift(1).iloc[-1] == -1) &\n",
    "                             (datos['alpha_bin'].shift(2).iloc[-1] == -1) & (datos['alpha_bin'].shift(3).iloc[-1] == -1))):\n",
    "        print('--Posición Larga--')\n",
    "        time.sleep(10)\n",
    "    \n",
    "    elif((datos['alpha_bin'].iloc[-1] == -1) & (datos['alpha_bin'].shift(1).iloc[-1] == 1) &\n",
    "                             (datos['alpha_bin'].shift(2).iloc[-1] == 1) & (datos['alpha_bin'].shift(3).iloc[-1] == 1))):\n",
    "        print('--Posición Corta--')\n",
    "        time.sleep(10)\n",
    "    else:\n",
    "        print('Sin Posición')\n",
    "        time.sleep(10)\n",
    "        "
   ]
  },
  {
   "cell_type": "markdown",
   "id": "9a2b8cc3",
   "metadata": {},
   "source": [
    "## Forward Test"
   ]
  },
  {
   "cell_type": "code",
   "execution_count": null,
   "id": "c08bd23d",
   "metadata": {},
   "outputs": [],
   "source": [
    "#Carcar datos\n",
    "datos = load_bitso_data_top500(CONFIG_MYSQL)\n",
    "    \n",
    "#Ordenar datos\n",
    "datos = datos.reindex(index=datos.index[::-1])\n",
    "datos.reset_index(inplace=True,drop=True)\n",
    "    \n",
    "#Crear medias moviles\n",
    "datos['mv200'] = sma(datos.price,10)\n",
    "datos['mv160'] = sma(datos.price,60)\n",
    "    \n",
    "#Restar medias moviles\n",
    "datos['alpha'] = datos['mv20'] - datos['mv160']\n",
    "    \n",
    "#Obtener datos\n",
    "datos['alpha_bin'] = datos['alpha'].apply(np.sign)\n",
    "\n",
    "\n",
    "\n",
    "# Forward Test\n",
    "longitud_arreglo = len(datos['alpha_bin'])\n",
    "for j in range(len(datos['alpha_bin'])):\n",
    "    i = longitud_arreglo - j\n",
    "    if((datos['alpha_bin'].iloc[-1] == 1) & (datos['alpha_bin'].shift(1).iloc[-1] == -1) &\n",
    "                             (datos['alpha_bin'].shift(2).iloc[-1] == -1) & (datos['alpha_bin'].shift(3).iloc[-1] == -1))):\n",
    "        print('--Posición Larga--')\n",
    "        time.sleep(1)\n",
    "    \n",
    "    elif((datos['alpha_bin'].iloc[-1] == -1) & (datos['alpha_bin'].shift(1).iloc[-1] == 1) &\n",
    "                             (datos['alpha_bin'].shift(2).iloc[-1] == 1) & (datos['alpha_bin'].shift(3).iloc[-1] == 1))):\n",
    "        print('--Posición Corta--')\n",
    "        time.sleep(1)\n",
    "    else:\n",
    "        print('Sin Posición')\n",
    "        time.sleep(1)\n",
    "    "
   ]
  },
  {
   "cell_type": "code",
   "execution_count": null,
   "id": "98b92be3",
   "metadata": {},
   "outputs": [],
   "source": []
  }
 ],
 "metadata": {
  "kernelspec": {
   "display_name": "Python 3",
   "language": "python",
   "name": "python3"
  },
  "language_info": {
   "codemirror_mode": {
    "name": "ipython",
    "version": 3
   },
   "file_extension": ".py",
   "mimetype": "text/x-python",
   "name": "python",
   "nbconvert_exporter": "python",
   "pygments_lexer": "ipython3",
   "version": "3.9.4"
  }
 },
 "nbformat": 4,
 "nbformat_minor": 5
}
